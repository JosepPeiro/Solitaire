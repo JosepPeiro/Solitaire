{
 "cells": [
  {
   "cell_type": "markdown",
   "id": "aeb264ad",
   "metadata": {},
   "source": [
    "# Apuntes Aprendizaje Reforzado\n",
    "\n",
    "Fuente: https://www.youtube.com/watch?v=Mut_u40Sqz4"
   ]
  },
  {
   "cell_type": "code",
   "execution_count": 1,
   "id": "764a62ce",
   "metadata": {},
   "outputs": [],
   "source": [
    "#!pip install stable-baselines3[extra]\n",
    "#!pip install gym"
   ]
  },
  {
   "cell_type": "code",
   "execution_count": 2,
   "id": "27fa4515",
   "metadata": {},
   "outputs": [],
   "source": [
    "import os\n",
    "import gym\n",
    "from stable_baselines3 import PPO\n",
    "#Esto es el el algoritmo de aprendizaje que vamos a utilizar, aunque hay muchos diferentes\n",
    "# y puede que este no sea el que nosotros necesitemos\n",
    "from stable_baselines3.common.vec_env import DummyVecEnv\n",
    "# DummyVecEnv nos sirve para vectorizar nuestros entornos y es maravilloso porque nos\n",
    "# posibilita hacer muchas simulaciones en un vector, lo que acelera el proceso de manera extrema\n",
    "from stable_baselines3.common.evaluation import evaluate_policy\n",
    "# Esta libraria es para evaluar modelos"
   ]
  },
  {
   "cell_type": "markdown",
   "id": "efc35425",
   "metadata": {},
   "source": [
    "## Cargar Entorno"
   ]
  },
  {
   "cell_type": "code",
   "execution_count": 3,
   "id": "846c6dd0",
   "metadata": {},
   "outputs": [
    {
     "name": "stderr",
     "output_type": "stream",
     "text": [
      "C:\\Users\\jpeir\\anaconda3\\lib\\site-packages\\gym\\envs\\registration.py:555: UserWarning: \u001b[33mWARN: The environment CartPole-v0 is out of date. You should consider upgrading to version `v1`.\u001b[0m\n",
      "  logger.warn(\n"
     ]
    }
   ],
   "source": [
    "environment_name = \"CartPole-v0\"\n",
    "env = gym.make(environment_name)\n",
    "# Vamos a trabajar con un problema de RL que consiste en mantener una barra vertical sin que caiga\n",
    "# La barra se encuentra sobre una plataforma móvil\n",
    "# El problema con el que trabajamos y cómo este se describe es lo que llamamos el entorno"
   ]
  },
  {
   "cell_type": "code",
   "execution_count": 4,
   "id": "4a1b6c7c",
   "metadata": {},
   "outputs": [
    {
     "name": "stdout",
     "output_type": "stream",
     "text": [
      "Episode:0 Score:35.0\n",
      "Episode:1 Score:19.0\n",
      "Episode:2 Score:13.0\n",
      "Episode:3 Score:14.0\n",
      "Episode:4 Score:14.0\n"
     ]
    },
    {
     "name": "stderr",
     "output_type": "stream",
     "text": [
      "C:\\Users\\jpeir\\anaconda3\\lib\\site-packages\\gym\\envs\\classic_control\\cartpole.py:211: UserWarning: \u001b[33mWARN: You are calling render method without specifying any render mode. You can specify the render_mode at initialization, e.g. gym(\"CartPole-v0\", render_mode=\"rgb_array\")\u001b[0m\n",
      "  gym.logger.warn(\n",
      "C:\\Users\\jpeir\\anaconda3\\lib\\site-packages\\gym\\utils\\passive_env_checker.py:233: DeprecationWarning: `np.bool8` is a deprecated alias for `np.bool_`.  (Deprecated NumPy 1.24)\n",
      "  if not isinstance(terminated, (bool, np.bool8)):\n"
     ]
    }
   ],
   "source": [
    "episodes = 5\n",
    "for ep in range(episodes):\n",
    "    state = env.reset()\n",
    "    # Reinicia el entorno\n",
    "    done = False\n",
    "    # Estado del entorno\n",
    "    score = 0\n",
    "    # Recompensa/Puntuación\n",
    "    \n",
    "    while not done:\n",
    "        env.render()\n",
    "        # Muestra una interfaz del problema\n",
    "        action = env.action_space.sample()\n",
    "        # Realiza una acción aleatoria\n",
    "        # En este problema, como tal y como se define en el entorno, solo se pueden hacer 2 posibles opciones, izquierda o derecha\n",
    "        # Así que action_space es el espacio de posibles acciones, que como además son acciones discretas el objeto se guarda como Discrete(2)\n",
    "        # Luego, cuando hacemos sample tomamos una de las 2 posibles acciones aleatoriamente\n",
    "        n_state, reward, done, trunc, info = env.step(action)\n",
    "        # Ejecutamos la accion elegida con step\n",
    "        # Devuelve el estado al que pasamos (la definición del estado)\n",
    "        # La recompensa que adquiere en ese paso\n",
    "        # Si la mision se ha completado\n",
    "        # Si la mision ha podido completarse en menos del maximo de pasos posibles\n",
    "        # Informacion adicional\n",
    "        score += reward\n",
    "    print(\"Episode:{} Score:{}\".format(ep, score))\n",
    "#env.close()"
   ]
  },
  {
   "cell_type": "code",
   "execution_count": 5,
   "id": "e1cfb35d",
   "metadata": {},
   "outputs": [
    {
     "data": {
      "text/plain": [
       "(array([ 0.0237855 ,  0.24117677,  0.03489403, -0.3260484 ], dtype=float32),\n",
       " 1.0,\n",
       " False,\n",
       " False,\n",
       " {})"
      ]
     },
     "execution_count": 5,
     "metadata": {},
     "output_type": "execute_result"
    }
   ],
   "source": [
    " env.reset()\n",
    "env.action_space.sample()\n",
    "env.step(action)"
   ]
  },
  {
   "cell_type": "markdown",
   "id": "64ee180c-7705-4037-bcb4-377e83c28788",
   "metadata": {},
   "source": [
    "## Entrenar modelo"
   ]
  },
  {
   "cell_type": "code",
   "execution_count": 9,
   "id": "399eef1d-9cd1-4ef2-9459-d8e3c0a8de00",
   "metadata": {},
   "outputs": [
    {
     "data": {
      "text/plain": [
       "'Entrenamiento\\\\Logs'"
      ]
     },
     "execution_count": 9,
     "metadata": {},
     "output_type": "execute_result"
    }
   ],
   "source": [
    "log_path = os.path.join(\"Entrenamiento\", \"Logs\")\n",
    "# Es muy importante que los directorios estén creados antes de hacer nada\n",
    "# Aquí hemos creado una carpeta llamada Entrenamiento, dentro la cual hay una llamada Logs para guardar progreso\n",
    "# Y otra Saved para guardar modelos entrenados\n",
    "log_path"
   ]
  },
  {
   "cell_type": "code",
   "execution_count": 11,
   "id": "289517ec-ede1-4948-955c-74f275864edb",
   "metadata": {},
   "outputs": [
    {
     "name": "stderr",
     "output_type": "stream",
     "text": [
      "C:\\Users\\jpeir\\anaconda3\\lib\\site-packages\\stable_baselines3\\common\\vec_env\\patch_gym.py:49: UserWarning: You provided an OpenAI Gym environment. We strongly recommend transitioning to Gymnasium environments. Stable-Baselines3 is automatically wrapping your environments in a compatibility layer, which could potentially cause issues.\n",
      "  warnings.warn(\n"
     ]
    },
    {
     "name": "stdout",
     "output_type": "stream",
     "text": [
      "Using cpu device\n"
     ]
    }
   ],
   "source": [
    "env = gym.make(environment_name)\n",
    "env = DummyVecEnv([lambda: env])\n",
    "# Con esta linea creamos un entorno vectorizado, lo que nos permite paralelizar nuestro entorno y hacer muchos entrenamientos en paralelo\n",
    "model = PPO(\"MlpPolicy\", env, verbose = 1, tensorboard_log = log_path)\n",
    "# Aquí estamos creando el modelo con el algoritmo que hemos importado desde el principio y que decidimos que seria el que utilizaremos\n",
    "# Hay muchos más algoritmos, pero para este ejemplo hemos preferido usar este\n",
    "# El primer parametro es la política que utilizaremos, MlpPolicy viene de Multi-Layer Perceptron Policy\n",
    "# Hay 3 posibles politicas de stable_baselines3: MlpPolicy, CnnPolicy, MultiInputPolicy\n",
    "# Segundo atributo el entorno, (que ya hemos vectorizaodo antes)\n",
    "# Luego verbose, porque queremos ver lo que ocurre, y la ruta de guardado, creada antes"
   ]
  },
  {
   "cell_type": "code",
   "execution_count": 12,
   "id": "81232e08-c2ac-4ba7-97d6-b2416437830d",
   "metadata": {},
   "outputs": [],
   "source": [
    "#PPO??\n",
    "# Hay chorrocientos atributos más"
   ]
  },
  {
   "cell_type": "code",
   "execution_count": 14,
   "id": "958ef39a-f462-40b3-b39b-595ac3e8fd49",
   "metadata": {},
   "outputs": [
    {
     "name": "stdout",
     "output_type": "stream",
     "text": [
      "Logging to Entrenamiento\\Logs\\PPO_2\n",
      "-----------------------------\n",
      "| time/              |      |\n",
      "|    fps             | 645  |\n",
      "|    iterations      | 1    |\n",
      "|    time_elapsed    | 3    |\n",
      "|    total_timesteps | 2048 |\n",
      "-----------------------------\n",
      "------------------------------------------\n",
      "| time/                   |              |\n",
      "|    fps                  | 385          |\n",
      "|    iterations           | 2            |\n",
      "|    time_elapsed         | 10           |\n",
      "|    total_timesteps      | 4096         |\n",
      "| train/                  |              |\n",
      "|    approx_kl            | 0.0075981338 |\n",
      "|    clip_fraction        | 0.104        |\n",
      "|    clip_range           | 0.2          |\n",
      "|    entropy_loss         | -0.556       |\n",
      "|    explained_variance   | 0.814        |\n",
      "|    learning_rate        | 0.0003       |\n",
      "|    loss                 | 1.06         |\n",
      "|    n_updates            | 110          |\n",
      "|    policy_gradient_loss | -0.0135      |\n",
      "|    value_loss           | 6.93         |\n",
      "------------------------------------------\n",
      "-----------------------------------------\n",
      "| time/                   |             |\n",
      "|    fps                  | 340         |\n",
      "|    iterations           | 3           |\n",
      "|    time_elapsed         | 18          |\n",
      "|    total_timesteps      | 6144        |\n",
      "| train/                  |             |\n",
      "|    approx_kl            | 0.006551196 |\n",
      "|    clip_fraction        | 0.0357      |\n",
      "|    clip_range           | 0.2         |\n",
      "|    entropy_loss         | -0.562      |\n",
      "|    explained_variance   | 0.4         |\n",
      "|    learning_rate        | 0.0003      |\n",
      "|    loss                 | 0.285       |\n",
      "|    n_updates            | 120         |\n",
      "|    policy_gradient_loss | -0.00259    |\n",
      "|    value_loss           | 4.17        |\n",
      "-----------------------------------------\n",
      "-----------------------------------------\n",
      "| time/                   |             |\n",
      "|    fps                  | 323         |\n",
      "|    iterations           | 4           |\n",
      "|    time_elapsed         | 25          |\n",
      "|    total_timesteps      | 8192        |\n",
      "| train/                  |             |\n",
      "|    approx_kl            | 0.005233368 |\n",
      "|    clip_fraction        | 0.0206      |\n",
      "|    clip_range           | 0.2         |\n",
      "|    entropy_loss         | -0.532      |\n",
      "|    explained_variance   | 0.00186     |\n",
      "|    learning_rate        | 0.0003      |\n",
      "|    loss                 | 0.902       |\n",
      "|    n_updates            | 130         |\n",
      "|    policy_gradient_loss | -0.00167    |\n",
      "|    value_loss           | 26.6        |\n",
      "-----------------------------------------\n",
      "------------------------------------------\n",
      "| time/                   |              |\n",
      "|    fps                  | 316          |\n",
      "|    iterations           | 5            |\n",
      "|    time_elapsed         | 32           |\n",
      "|    total_timesteps      | 10240        |\n",
      "| train/                  |              |\n",
      "|    approx_kl            | 0.0060064136 |\n",
      "|    clip_fraction        | 0.0427       |\n",
      "|    clip_range           | 0.2          |\n",
      "|    entropy_loss         | -0.544       |\n",
      "|    explained_variance   | -0.23        |\n",
      "|    learning_rate        | 0.0003       |\n",
      "|    loss                 | 0.316        |\n",
      "|    n_updates            | 140          |\n",
      "|    policy_gradient_loss | -0.00387     |\n",
      "|    value_loss           | 2.13         |\n",
      "------------------------------------------\n",
      "-----------------------------------------\n",
      "| time/                   |             |\n",
      "|    fps                  | 311         |\n",
      "|    iterations           | 6           |\n",
      "|    time_elapsed         | 39          |\n",
      "|    total_timesteps      | 12288       |\n",
      "| train/                  |             |\n",
      "|    approx_kl            | 0.001120572 |\n",
      "|    clip_fraction        | 0.00811     |\n",
      "|    clip_range           | 0.2         |\n",
      "|    entropy_loss         | -0.53       |\n",
      "|    explained_variance   | 0.031       |\n",
      "|    learning_rate        | 0.0003      |\n",
      "|    loss                 | 68.1        |\n",
      "|    n_updates            | 150         |\n",
      "|    policy_gradient_loss | -0.0034     |\n",
      "|    value_loss           | 51.9        |\n",
      "-----------------------------------------\n",
      "-----------------------------------------\n",
      "| time/                   |             |\n",
      "|    fps                  | 305         |\n",
      "|    iterations           | 7           |\n",
      "|    time_elapsed         | 46          |\n",
      "|    total_timesteps      | 14336       |\n",
      "| train/                  |             |\n",
      "|    approx_kl            | 0.001847764 |\n",
      "|    clip_fraction        | 0.01        |\n",
      "|    clip_range           | 0.2         |\n",
      "|    entropy_loss         | -0.525      |\n",
      "|    explained_variance   | -0.624      |\n",
      "|    learning_rate        | 0.0003      |\n",
      "|    loss                 | 0.221       |\n",
      "|    n_updates            | 160         |\n",
      "|    policy_gradient_loss | -0.00142    |\n",
      "|    value_loss           | 1.51        |\n",
      "-----------------------------------------\n",
      "-----------------------------------------\n",
      "| time/                   |             |\n",
      "|    fps                  | 302         |\n",
      "|    iterations           | 8           |\n",
      "|    time_elapsed         | 54          |\n",
      "|    total_timesteps      | 16384       |\n",
      "| train/                  |             |\n",
      "|    approx_kl            | 0.008475661 |\n",
      "|    clip_fraction        | 0.0911      |\n",
      "|    clip_range           | 0.2         |\n",
      "|    entropy_loss         | -0.519      |\n",
      "|    explained_variance   | 0.435       |\n",
      "|    learning_rate        | 0.0003      |\n",
      "|    loss                 | 0.162       |\n",
      "|    n_updates            | 170         |\n",
      "|    policy_gradient_loss | -0.0102     |\n",
      "|    value_loss           | 0.572       |\n",
      "-----------------------------------------\n",
      "-----------------------------------------\n",
      "| time/                   |             |\n",
      "|    fps                  | 302         |\n",
      "|    iterations           | 9           |\n",
      "|    time_elapsed         | 60          |\n",
      "|    total_timesteps      | 18432       |\n",
      "| train/                  |             |\n",
      "|    approx_kl            | 0.005052097 |\n",
      "|    clip_fraction        | 0.0489      |\n",
      "|    clip_range           | 0.2         |\n",
      "|    entropy_loss         | -0.502      |\n",
      "|    explained_variance   | 0.301       |\n",
      "|    learning_rate        | 0.0003      |\n",
      "|    loss                 | 0.0455      |\n",
      "|    n_updates            | 180         |\n",
      "|    policy_gradient_loss | -0.00543    |\n",
      "|    value_loss           | 0.363       |\n",
      "-----------------------------------------\n",
      "------------------------------------------\n",
      "| time/                   |              |\n",
      "|    fps                  | 301          |\n",
      "|    iterations           | 10           |\n",
      "|    time_elapsed         | 67           |\n",
      "|    total_timesteps      | 20480        |\n",
      "| train/                  |              |\n",
      "|    approx_kl            | 0.0038317111 |\n",
      "|    clip_fraction        | 0.0367       |\n",
      "|    clip_range           | 0.2          |\n",
      "|    entropy_loss         | -0.49        |\n",
      "|    explained_variance   | 0.231        |\n",
      "|    learning_rate        | 0.0003       |\n",
      "|    loss                 | 0.101        |\n",
      "|    n_updates            | 190          |\n",
      "|    policy_gradient_loss | -0.00405     |\n",
      "|    value_loss           | 0.234        |\n",
      "------------------------------------------\n"
     ]
    },
    {
     "data": {
      "text/plain": [
       "<stable_baselines3.ppo.ppo.PPO at 0x20deb9283a0>"
      ]
     },
     "execution_count": 14,
     "metadata": {},
     "output_type": "execute_result"
    }
   ],
   "source": [
    "model.learn(total_timesteps = 20000)\n",
    "# Y voilá, así se entrena un modelín, no es dificil\n",
    "# EL resultado del entrenamiento se guarda en una carpeta\n",
    "# Cada vez que se ejecuta el bicho se crea una carpeta con lo que ha ido aprendiendo"
   ]
  },
  {
   "cell_type": "markdown",
   "id": "660d40e8-b872-4d3c-b42c-ec0967bf508d",
   "metadata": {},
   "source": [
    "## Guardar y recargar un modelo"
   ]
  },
  {
   "cell_type": "code",
   "execution_count": 15,
   "id": "57c3c94f-6b40-46cd-83ed-b768082bccb6",
   "metadata": {},
   "outputs": [],
   "source": [
    "PPO_Path = os.path.join(\"Entrenamiento\", \"Saved Models\", \"PPO_CartPole\")\n",
    "# Creamos una carpeta para guardar modelos y reejecutarlos, no hace falta que ya exista, sino que la creará\n",
    "# La creará como un zip\n",
    "model.save(PPO_Path)"
   ]
  },
  {
   "cell_type": "code",
   "execution_count": 19,
   "id": "3f331e9e-c138-492b-95cb-46dbf2aea822",
   "metadata": {},
   "outputs": [],
   "source": [
    "# Si quisieramos, ahora ya tenemos el modelo guardado así que podemos cargarlo de nuevo\n",
    "# Podemos eliminar el modelo que tenemos en memoria\n",
    "del model # Eliminar modelo\n",
    "# model.learn(total_timesteps = 20000) # Esto daría error porque la variable ya no existe"
   ]
  },
  {
   "cell_type": "code",
   "execution_count": 20,
   "id": "4ced66d6-171d-4a78-9dea-5a8ea7da9d2a",
   "metadata": {},
   "outputs": [],
   "source": [
    "# Y lo podemos importar de la carpeta que teniamos guardada\n",
    "model = PPO.load(PPO_Path, env = env)"
   ]
  },
  {
   "cell_type": "markdown",
   "id": "211d5a3e-059b-4dd3-9e42-2b094141f8c9",
   "metadata": {},
   "source": [
    "## Evaluar modelo"
   ]
  },
  {
   "cell_type": "code",
   "execution_count": 23,
   "id": "51fc0ab0-5709-4b6d-9e01-8bdf37b2fd52",
   "metadata": {},
   "outputs": [],
   "source": [
    "# Usamos la función que hemos importado al principio para evaluar modelos\n",
    "evaluate_policy(model, env, n_eval_episodes = 10, render=True)\n",
    "# Podemos elegir el número de episodios a evaluar\n",
    "# Y con render elegimos si queremos verlo ejecutar o no"
   ]
  },
  {
   "cell_type": "code",
   "execution_count": null,
   "id": "ceb69111-5ee8-4d0d-8a5a-0069418222a0",
   "metadata": {},
   "outputs": [],
   "source": [
    "env.close() # Y cerramos"
   ]
  },
  {
   "cell_type": "markdown",
   "id": "9d54d9dc-296b-4f15-a4ad-45622bdce15d",
   "metadata": {},
   "source": [
    "## Testear"
   ]
  },
  {
   "cell_type": "code",
   "execution_count": 27,
   "id": "b7e4b26f-3577-4305-aac7-7aed4986bff3",
   "metadata": {},
   "outputs": [
    {
     "name": "stdout",
     "output_type": "stream",
     "text": [
      "Episode:0 Score:[200.]\n",
      "Episode:1 Score:[200.]\n",
      "Episode:2 Score:[200.]\n",
      "Episode:3 Score:[200.]\n",
      "Episode:4 Score:[200.]\n"
     ]
    }
   ],
   "source": [
    "# Ya hemos evaluado el modelo, pero ahora, la pregunta realmente importante es, qué ocurrirá si cambia el entorno\n",
    "# Es el motivo por el que hacemos todo esto\n",
    "# Tomamos la idea del código del principio\n",
    "\n",
    "episodes = 5 # Numero episodios\n",
    "for ep in range(episodes):\n",
    "    obs = env.reset()\n",
    "    # Reiniciamos el entorno, para ver qué pasa si cambia\n",
    "    # Guardamos el entorno el una variable\n",
    "    done = False\n",
    "    score = 0\n",
    "    \n",
    "    while not done:\n",
    "        env.render()\n",
    "        action, _ = model.predict(obs)\n",
    "        # Esto es casi lo único que cambia respecto al principio\n",
    "        # Ahora en lugar de acciones aleatorias va a predecir las acciones\n",
    "        # Tenemos que pasarle el entorno para que prediga\n",
    "        obs, reward, done, info = env.step(action)\n",
    "        # Y el entorno se tiene que actualizar en cada iteracion\n",
    "        score += reward\n",
    "    print(\"Episode:{} Score:{}\".format(ep, score))\n",
    "#env.close()"
   ]
  },
  {
   "cell_type": "code",
   "execution_count": null,
   "id": "fd48f80b-485f-4083-acf2-5051cf27050a",
   "metadata": {},
   "outputs": [],
   "source": [
    "env.close()"
   ]
  }
 ],
 "metadata": {
  "kernelspec": {
   "display_name": "Python 3 (ipykernel)",
   "language": "python",
   "name": "python3"
  },
  "language_info": {
   "codemirror_mode": {
    "name": "ipython",
    "version": 3
   },
   "file_extension": ".py",
   "mimetype": "text/x-python",
   "name": "python",
   "nbconvert_exporter": "python",
   "pygments_lexer": "ipython3",
   "version": "3.8.8"
  }
 },
 "nbformat": 4,
 "nbformat_minor": 5
}
